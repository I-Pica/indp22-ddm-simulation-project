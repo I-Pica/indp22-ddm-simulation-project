{
 "cells": [
  {
   "cell_type": "code",
   "execution_count": null,
   "metadata": {},
   "outputs": [],
   "source": [
    "# @title Import packages\n",
    "import numpy as np\n",
    "import matplotlib.pyplot as plt\n",
    "import importlib\n",
    "# import all functions defined in ddm.py\n",
    "import ddm\n",
    "\n",
    "# set the font size of plots\n",
    "font = {'size'   : 14}\n",
    "plt.rc('font', **font)"
   ]
  },
  {
   "cell_type": "code",
   "execution_count": null,
   "metadata": {},
   "outputs": [],
   "source": [
    "# Reload all functions from the ddm.py file\n",
    "# use after making changes in ddm.py.\n",
    "importlib.reload(ddm)"
   ]
  },
  {
   "attachments": {},
   "cell_type": "markdown",
   "metadata": {},
   "source": [
    "- Basic setup to simulate trajectories with 3 parameters (drift, bound, starting point) using Euler Mayurama  method\n",
    "\t- Obtain histograms and psychometrics\n",
    "\t- Compare to analytic solutions, explore the error of the approximation with dt\n",
    "\t- Explore dependence of histograms and psychometrics with parameter values\n",
    "- Add time varying bound, variability in parameters\n",
    "- Explore race models\n",
    "\n",
    "- \"Optogenetic manipulations\"\n",
    "\t- \"Sensory neurons\" vs \"Integrator neurons\"\n",
    "\t- Bound \"deletion\"\n",
    "        - Other ways?\n",
    "\n",
    "- History effects\n",
    "\t- Explore updates on starting point and drifts\n",
    "\t- Also post error slowing (increase bounds after errors)"
   ]
  },
  {
   "attachments": {},
   "cell_type": "markdown",
   "metadata": {},
   "source": [
    "### Perform simulations"
   ]
  },
  {
   "cell_type": "code",
   "execution_count": null,
   "metadata": {},
   "outputs": [],
   "source": [
    "# Define DDM parameters\n",
    "mu = 0.5 # drift\n",
    "theta = 1 # bound\n",
    "z = 0 # starting point\n",
    "sigma = 1 # noise std\n",
    "b = 0.1 # time varying bound\n",
    "\n",
    "# Define simulation parameters\n",
    "n_trials = 1000\n",
    "dt = .001\n",
    "T = 10"
   ]
  },
  {
   "cell_type": "code",
   "execution_count": null,
   "metadata": {},
   "outputs": [],
   "source": [
    "# Run DDM simulations for different drifts\n",
    "n_mu = 21\n",
    "mu_list = 2*np.linspace(-1, 1, n_mu)\n",
    "z_list = 0*np.concatenate((-np.ones((10,)),\\\n",
    "                              np.zeros((1,)),\\\n",
    "                              np.ones((10,))))\n",
    "b = 0.01\n",
    "# Preallocate results\n",
    "S_list = []\n",
    "hits_list = []\n",
    "errs_list = []\n",
    "for i, mu in enumerate(mu_list):\n",
    "    z = z_list[i]\n",
    "    # Simulate trajectories\n",
    "    S, hits, errs, thetas = ddm.sim_ddm(mu, theta, b, z, sigma, n_trials, dt, T)\n",
    "    S_list.append(S)\n",
    "    hits_list.append(hits)\n",
    "    errs_list.append(errs)"
   ]
  },
  {
   "cell_type": "code",
   "execution_count": null,
   "metadata": {},
   "outputs": [],
   "source": [
    "# Plot the reaction time distributions for the hit and error trials, for example mu\n",
    "mu_i = 15 # example mu\n",
    "\n",
    "hits = S_list[mu_i][hits_list[mu_i],1]\n",
    "errs = S_list[mu_i][errs_list[mu_i],1]\n",
    "\n",
    "ddm.plot_rt_hist(hits, errs)\n",
    "plt.title('Reaction time distribution\\n for drift={:.2f}'.format(mu_list[mu_i]))\n",
    "plt.show()"
   ]
  },
  {
   "cell_type": "code",
   "execution_count": null,
   "metadata": {},
   "outputs": [],
   "source": [
    "# Plot a psychometric curve\n",
    "prob_a = ddm.calc_psychometric(S_list, mu_list)\n",
    "ddm.plot_psychometric(prob_a, mu_list)\n",
    "plt.title('Psychometric function for\\n a basic drift diffusion model')\n",
    "plt.show()"
   ]
  },
  {
   "cell_type": "code",
   "execution_count": null,
   "metadata": {},
   "outputs": [],
   "source": [
    "# Plot the quantile probability function\n",
    "ddm.plot_quantile_prob_func(S_list, hits_list, errs_list, mu_list, prob_a)\n",
    "plt.title('Quantile probability function')\n",
    "plt.show()"
   ]
  },
  {
   "attachments": {},
   "cell_type": "markdown",
   "metadata": {},
   "source": [
    "### Race model"
   ]
  },
  {
   "cell_type": "code",
   "execution_count": null,
   "metadata": {},
   "outputs": [],
   "source": []
  }
 ],
 "metadata": {
  "kernelspec": {
   "display_name": "base",
   "language": "python",
   "name": "python3"
  },
  "language_info": {
   "codemirror_mode": {
    "name": "ipython",
    "version": 3
   },
   "file_extension": ".py",
   "mimetype": "text/x-python",
   "name": "python",
   "nbconvert_exporter": "python",
   "pygments_lexer": "ipython3",
   "version": "3.9.12"
  },
  "orig_nbformat": 4,
  "vscode": {
   "interpreter": {
    "hash": "3d597f4c481aa0f25dceb95d2a0067e73c0966dcbd003d741d821a7208527ecf"
   }
  }
 },
 "nbformat": 4,
 "nbformat_minor": 2
}
