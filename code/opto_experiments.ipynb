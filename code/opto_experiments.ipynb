{
 "cells": [
  {
   "attachments": {},
   "cell_type": "markdown",
   "metadata": {},
   "source": [
    "# Optogentic stimulation experiments\n",
    "\n",
    "Perform three kinds of optogentic stimulation experiments for drift diffusion models:\n",
    "- On the sensory detection level (change $\\mu$ and/or $\\sigma$)\n",
    "- On the evidence accumulation level (change $x(t)$)\n",
    "- On the decision making level (decision $\\theta$)\n",
    "\n",
    "where:\n",
    "\n",
    "- $\\mu$ is the drift rate\n",
    "- $\\sigma$ is the amount of diffusion\n",
    "- $x(t)$ is the time-dependent evidence (accumulated sensory signal)\n",
    "- $\\theta$ is the (constant) position of the decision bound"
   ]
  },
  {
   "attachments": {},
   "cell_type": "markdown",
   "metadata": {},
   "source": [
    "## Standard drift diffusion model"
   ]
  },
  {
   "cell_type": "code",
   "execution_count": 1,
   "metadata": {},
   "outputs": [],
   "source": [
    "# @title Import packages\n",
    "import numpy as np\n",
    "import matplotlib.pyplot as plt\n",
    "import importlib\n",
    "# import all functions defined in ddm.py\n",
    "import ddm\n",
    "\n",
    "# set the font size of plots\n",
    "font = {'size'   : 14}\n",
    "plt.rc('font', **font)"
   ]
  },
  {
   "cell_type": "code",
   "execution_count": 26,
   "metadata": {},
   "outputs": [
    {
     "data": {
      "text/plain": [
       "<module 'ddm' from '/Users/pica/Documents/GitHub/indp22-ddm-simulation-project/code/ddm.py'>"
      ]
     },
     "execution_count": 26,
     "metadata": {},
     "output_type": "execute_result"
    }
   ],
   "source": [
    "importlib.reload(ddm)"
   ]
  },
  {
   "attachments": {},
   "cell_type": "markdown",
   "metadata": {},
   "source": [
    "Manipulate sensory detection"
   ]
  },
  {
   "cell_type": "code",
   "execution_count": 27,
   "metadata": {},
   "outputs": [],
   "source": [
    "# Optogentic manipulation of the sensory detector, here we change the drift parameter mu\n",
    "\n",
    "# Define DDM parameters\n",
    "mu = 2 # drift\n",
    "theta = 1 # bound\n",
    "z = 0 # starting point\n",
    "sigma = 1 # noise std\n",
    "b = 0 # time varying bound\n",
    "\n",
    "# Define simulation parameters\n",
    "n_trials = 1000\n",
    "dt = .001\n",
    "T = 10\n",
    "\n",
    "# Define optogenetic parameters\n",
    "t = np.arange(0, T, dt) # simulation time\n",
    "theta = theta*np.ones((t.size,1))\n",
    "opto_time = np.where(np.logical_and(t >= 0.2, t <= 0.7))[0] # 500 msec stimulation\n",
    "opto_val = 1*mu\n",
    "mu = mu*np.ones((t.size,1))\n",
    "mu[opto_time] -= opto_val\n",
    "\n",
    "# Run simulation\n",
    "S, traj = ddm.sim_ddm(mu, theta, z, sigma, n_trials, dt, T)"
   ]
  },
  {
   "cell_type": "code",
   "execution_count": null,
   "metadata": {},
   "outputs": [],
   "source": [
    "# Plot a trajectory\n",
    "plt.figure(figsize=(10,5))\n",
    "plt.plot(t, traj[0,:])\n",
    "plt.plot(t, traj[1,:])\n",
    "plt.plot(t, traj[3,:])\n",
    "plt.show()"
   ]
  },
  {
   "attachments": {},
   "cell_type": "markdown",
   "metadata": {},
   "source": [
    "Manipulate evidence accumulation"
   ]
  },
  {
   "cell_type": "code",
   "execution_count": null,
   "metadata": {},
   "outputs": [],
   "source": [
    "# Optogentic manipulation on the integrator, here we clamp X\n",
    "\n",
    "# Define DDM parameters\n",
    "mu = 0.5 # drift\n",
    "theta = 1 # bound\n",
    "z = 0 # starting point\n",
    "sigma = 1 # noise std\n",
    "b = 0 # time varying bound\n",
    "\n",
    "# Define simulation parameters\n",
    "n_trials = 1000\n",
    "dt = .001\n",
    "T = 10\n",
    "\n",
    "# Define optogenetic parameters\n",
    "t = np.arange(0, T, dt) # simulation time\n",
    "theta = theta*np.ones((t.size,1))\n",
    "clamp_time = np.where(np.logical_and(t >= 0.2, t <= 0.7))[0] # 500 msec stimulation\n",
    "clamp_val = 0*np.ones((clamp_time.size,1))\n",
    "clamp_x = [clamp_time, clamp_val] # stimulation time, clamp value\n",
    "\n",
    "# Run simulation\n",
    "S, traj = ddm.sim_ddm(mu, theta, z, sigma, n_trials, dt, T, clamp_x)"
   ]
  },
  {
   "cell_type": "code",
   "execution_count": null,
   "metadata": {},
   "outputs": [],
   "source": [
    "# Plot a trajectory\n",
    "plt.figure(figsize=(10,5))\n",
    "plt.plot(t, traj[0,:])\n",
    "plt.plot(t, traj[1,:])\n",
    "plt.plot(t, traj[3,:])\n",
    "plt.show()"
   ]
  },
  {
   "attachments": {},
   "cell_type": "markdown",
   "metadata": {},
   "source": [
    "Manipulate decision"
   ]
  },
  {
   "cell_type": "code",
   "execution_count": 3,
   "metadata": {},
   "outputs": [],
   "source": [
    "# Optogentic manipulation of the decision maker, here we change the decision bound theta\n",
    "\n",
    "# Define DDM parameters\n",
    "mu = 0.5 # drift\n",
    "theta = 1 # bound\n",
    "z = 0 # starting point\n",
    "sigma = 1 # noise std\n",
    "b = 0 # time varying bound\n",
    "\n",
    "# Define simulation parameters\n",
    "n_trials = 1000\n",
    "dt = .001\n",
    "T = 10\n",
    "\n",
    "# Define optogenetic parameters\n",
    "t = np.arange(0, T, dt) # simulation time\n",
    "theta = theta*np.ones((t.size,1))\n",
    "clamp_time = np.where(np.logical_and(t >= 0, t <= 9.0))[0] # 500 msec stimulation\n",
    "clamp_val = np.nan*np.ones((clamp_time.size,1))\n",
    "theta[clamp_time] = clamp_val # stimulation time, clamp value\n",
    "\n",
    "# Run simulation\n",
    "S, traj = ddm.sim_ddm(mu, theta, z, sigma, n_trials, dt, T)"
   ]
  },
  {
   "cell_type": "code",
   "execution_count": null,
   "metadata": {},
   "outputs": [],
   "source": [
    "# Plot a trajectory\n",
    "plt.figure(figsize=(10,5))\n",
    "plt.plot(t, traj[0,:])\n",
    "plt.plot(t, traj[1,:])\n",
    "plt.plot(t, traj[3,:])\n",
    "plt.show()"
   ]
  },
  {
   "attachments": {},
   "cell_type": "markdown",
   "metadata": {},
   "source": [
    "## Race model\n",
    "\n"
   ]
  },
  {
   "cell_type": "markdown",
   "metadata": {},
   "source": [
    "Manipulate sensory detection"
   ]
  },
  {
   "cell_type": "code",
   "execution_count": 21,
   "metadata": {},
   "outputs": [
    {
     "data": {
      "text/plain": [
       "10000"
      ]
     },
     "execution_count": 21,
     "metadata": {},
     "output_type": "execute_result"
    }
   ],
   "source": [
    "theta = [1, 1]\n",
    "theta = [theta[0]*np.ones((t.size,)), theta[1]*np.ones((t.size,))]\n",
    "theta[0].size"
   ]
  },
  {
   "cell_type": "code",
   "execution_count": 23,
   "metadata": {},
   "outputs": [
    {
     "name": "stdout",
     "output_type": "stream",
     "text": [
      "10000\n",
      "1.0\n"
     ]
    },
    {
     "ename": "ValueError",
     "evalue": "The truth value of an array with more than one element is ambiguous. Use a.any() or a.all()",
     "output_type": "error",
     "traceback": [
      "\u001b[0;31m---------------------------------------------------------------------------\u001b[0m",
      "\u001b[0;31mValueError\u001b[0m                                Traceback (most recent call last)",
      "Cell \u001b[0;32mIn[23], line 30\u001b[0m\n\u001b[1;32m     26\u001b[0m mu_bi[opto_time] \u001b[39m-\u001b[39m\u001b[39m=\u001b[39m opto_val\n\u001b[1;32m     29\u001b[0m \u001b[39m# Run simulation\u001b[39;00m\n\u001b[0;32m---> 30\u001b[0m S_uni, traj_uni \u001b[39m=\u001b[39m ddm\u001b[39m.\u001b[39;49msim_race(mu_uni, theta, z, sigma, n_trials, dt, T)\n\u001b[1;32m     31\u001b[0m S_bi, traj_bi \u001b[39m=\u001b[39m ddm\u001b[39m.\u001b[39msim_race(mu_bi, theta, z, sigma, n_trials, dt, T)\n",
      "File \u001b[0;32m~/Documents/GitHub/indp22-ddm-simulation-project/code/ddm.py:66\u001b[0m, in \u001b[0;36msim_race\u001b[0;34m(mu, theta, z, sigma, n_trials, dt, T, clamp_x, seed)\u001b[0m\n\u001b[1;32m     64\u001b[0m \u001b[39mfor\u001b[39;00m tr \u001b[39min\u001b[39;00m \u001b[39mrange\u001b[39m(n_trials):\n\u001b[1;32m     65\u001b[0m     \u001b[39mprint\u001b[39m(np\u001b[39m.\u001b[39msize(theta[\u001b[39m0\u001b[39m]))\n\u001b[0;32m---> 66\u001b[0m     A, traj[\u001b[39m0\u001b[39m,tr,:], ti[\u001b[39m0\u001b[39m] \u001b[39m=\u001b[39m drift_diff(mu[\u001b[39m0\u001b[39;49m], theta[\u001b[39m0\u001b[39;49m], z[\u001b[39m0\u001b[39;49m], sigma[\u001b[39m0\u001b[39;49m], dt, T, clamp_x, racer\u001b[39m=\u001b[39;49m\u001b[39mTrue\u001b[39;49;00m)\n\u001b[1;32m     67\u001b[0m     B, traj[\u001b[39m1\u001b[39m,tr,:], ti[\u001b[39m1\u001b[39m] \u001b[39m=\u001b[39m drift_diff(mu[\u001b[39m1\u001b[39m], theta[\u001b[39m1\u001b[39m], z[\u001b[39m1\u001b[39m], sigma[\u001b[39m1\u001b[39m], dt, T, clamp_x, racer\u001b[39m=\u001b[39m\u001b[39mTrue\u001b[39;00m)\n\u001b[1;32m     68\u001b[0m     \u001b[39m# Get the reaction time of the racer that crossed their bound first\u001b[39;00m\n",
      "File \u001b[0;32m~/Documents/GitHub/indp22-ddm-simulation-project/code/ddm.py:25\u001b[0m, in \u001b[0;36mdrift_diff\u001b[0;34m(mu, theta, z, sigma, dt, T, clamp_x, racer, seed)\u001b[0m\n\u001b[1;32m     23\u001b[0m \u001b[39mfor\u001b[39;00m ti \u001b[39min\u001b[39;00m \u001b[39mrange\u001b[39m(n_t):\n\u001b[1;32m     24\u001b[0m     \u001b[39mprint\u001b[39m(theta[ti])\n\u001b[0;32m---> 25\u001b[0m     \u001b[39mif\u001b[39;00m x[ti] \u001b[39m>\u001b[39m\u001b[39m=\u001b[39m theta[ti]:\n\u001b[1;32m     26\u001b[0m         S \u001b[39m=\u001b[39m [\u001b[39m1\u001b[39m, t[ti]]\n\u001b[1;32m     27\u001b[0m         \u001b[39mbreak\u001b[39;00m\n",
      "\u001b[0;31mValueError\u001b[0m: The truth value of an array with more than one element is ambiguous. Use a.any() or a.all()"
     ]
    }
   ],
   "source": [
    "# Optogentic manipulation of the sensory detector.\n",
    "# We perform uni- and bilateral manipulation.\n",
    "\n",
    "# Define DDM parameters\n",
    "mu = [1, 1] # drift\n",
    "theta = [1, 1] # bound\n",
    "z = [0, 0] # starting point\n",
    "sigma = [1, 1] # noise std\n",
    "b = [0, 0] # time varying bound\n",
    "\n",
    "# Define simulation parameters\n",
    "n_trials = 1000\n",
    "dt = .001\n",
    "T = 10\n",
    "\n",
    "# Define unilateral optogenetic stimulation parameters\n",
    "t = np.arange(0, T, dt) # simulation time\n",
    "theta = [theta[0]*np.ones((t.size,1)), theta[1]*np.ones((t.size,1))]\n",
    "opto_time = np.where(np.logical_and(t >= 0.2, t <= 0.7))[0] # 500 msec stimulation\n",
    "opto_val = np.array([mu[0], 0])\n",
    "mu_uni = np.array(mu)*np.ones((t.size,2))\n",
    "mu_uni[opto_time] -= opto_val\n",
    "# And the bilateral optogenetic stimulation parameters\n",
    "opto_val = np.array(mu)\n",
    "mu_bi = np.array(mu)*np.ones((t.size,2))\n",
    "mu_bi[opto_time] -= opto_val\n",
    "\n",
    "\n",
    "# Run simulation\n",
    "S_uni, traj_uni = ddm.sim_race(mu_uni, theta, z, sigma, n_trials, dt, T)\n",
    "S_bi, traj_bi = ddm.sim_race(mu_bi, theta, z, sigma, n_trials, dt, T)"
   ]
  }
 ],
 "metadata": {
  "kernelspec": {
   "display_name": "base",
   "language": "python",
   "name": "python3"
  },
  "language_info": {
   "codemirror_mode": {
    "name": "ipython",
    "version": 3
   },
   "file_extension": ".py",
   "mimetype": "text/x-python",
   "name": "python",
   "nbconvert_exporter": "python",
   "pygments_lexer": "ipython3",
   "version": "3.9.12"
  },
  "orig_nbformat": 4,
  "vscode": {
   "interpreter": {
    "hash": "3d597f4c481aa0f25dceb95d2a0067e73c0966dcbd003d741d821a7208527ecf"
   }
  }
 },
 "nbformat": 4,
 "nbformat_minor": 2
}
