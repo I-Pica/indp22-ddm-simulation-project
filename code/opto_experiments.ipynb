{
 "cells": [
  {
   "attachments": {},
   "cell_type": "markdown",
   "metadata": {},
   "source": [
    "# Optogentic stimulation experiments\n",
    "\n",
    "Perform three kinds of optogentic stimulation experiments for drift diffusion models:\n",
    "- On the sensory detection level (change $\\mu$ and/or $\\sigma$)\n",
    "- On the evidence accumulation level (change $x(t)$)\n",
    "- On the decision making level (decision $\\theta$)\n",
    "\n",
    "where:\n",
    "\n",
    "- $\\mu$ is the drift rate\n",
    "- $\\sigma$ is the amount of diffusion\n",
    "- $x(t)$ is the time-dependent evidence (accumulated sensory signal)\n",
    "- $\\theta$ is the (constant) position of the decision bound"
   ]
  },
  {
   "cell_type": "code",
   "execution_count": null,
   "metadata": {},
   "outputs": [],
   "source": [
    "# @title Import packages\n",
    "import numpy as np\n",
    "import matplotlib.pyplot as plt\n",
    "import importlib\n",
    "# import all functions defined in ddm.py\n",
    "import ddm\n",
    "\n",
    "# set the font size of plots\n",
    "font = {'size'   : 14}\n",
    "plt.rc('font', **font)"
   ]
  },
  {
   "attachments": {},
   "cell_type": "markdown",
   "metadata": {},
   "source": [
    "Manipulate sensory detection"
   ]
  },
  {
   "cell_type": "code",
   "execution_count": null,
   "metadata": {},
   "outputs": [],
   "source": [
    "# Optogentic manipulation of the sensory detector, here we change the drift parameter mu\n",
    "\n",
    "# Define DDM parameters\n",
    "mu = 2 # drift\n",
    "theta = 1 # bound\n",
    "z = 0 # starting point\n",
    "sigma = 1 # noise std\n",
    "b = 0 # time varying bound\n",
    "\n",
    "# Define simulation parameters\n",
    "n_trials = 1000\n",
    "dt = .001\n",
    "T = 10\n",
    "\n",
    "# Define optogenetic parameters\n",
    "t = np.arange(0, T, dt) # simulation time\n",
    "theta = theta*np.ones((t.size,1))\n",
    "opto_time = np.where(np.logical_and(t >= 0.2, t <= 0.7))[0] # 500 msec stimulation\n",
    "opto_val = 1*mu\n",
    "mu = mu*np.ones((t.size,1))\n",
    "mu[opto_time] -= opto_val\n",
    "\n",
    "# Run simulation\n",
    "S, traj = ddm.sim_ddm(mu, theta, z, sigma, n_trials, dt, T)"
   ]
  },
  {
   "cell_type": "code",
   "execution_count": null,
   "metadata": {},
   "outputs": [],
   "source": [
    "# Plot a trajectory\n",
    "plt.figure(figsize=(10,5))\n",
    "plt.plot(t, traj[0,:])\n",
    "plt.plot(t, traj[1,:])\n",
    "plt.plot(t, traj[3,:])\n",
    "plt.show()"
   ]
  },
  {
   "attachments": {},
   "cell_type": "markdown",
   "metadata": {},
   "source": [
    "Manipulate evidence accumulation"
   ]
  },
  {
   "cell_type": "code",
   "execution_count": null,
   "metadata": {},
   "outputs": [],
   "source": [
    "# Optogentic manipulation on the integrator, here we clamp X\n",
    "\n",
    "# Define DDM parameters\n",
    "mu = 0.5 # drift\n",
    "theta = 1 # bound\n",
    "z = 0 # starting point\n",
    "sigma = 1 # noise std\n",
    "b = 0 # time varying bound\n",
    "\n",
    "# Define simulation parameters\n",
    "n_trials = 1000\n",
    "dt = .001\n",
    "T = 10\n",
    "\n",
    "# Define optogenetic parameters\n",
    "t = np.arange(0, T, dt) # simulation time\n",
    "theta = theta*np.ones((t.size,1))\n",
    "clamp_time = np.where(np.logical_and(t >= 0.2, t <= 0.7))[0] # 500 msec stimulation\n",
    "clamp_val = 0*np.ones((clamp_time.size,1))\n",
    "clamp_x = [clamp_time, clamp_val] # stimulation time, clamp value\n",
    "\n",
    "# Run simulation\n",
    "S, traj = ddm.sim_ddm(mu, theta, z, sigma, n_trials, dt, T, clamp_x)"
   ]
  },
  {
   "cell_type": "code",
   "execution_count": null,
   "metadata": {},
   "outputs": [],
   "source": [
    "# Plot a trajectory\n",
    "plt.figure(figsize=(10,5))\n",
    "plt.plot(t, traj[0,:])\n",
    "plt.plot(t, traj[1,:])\n",
    "plt.plot(t, traj[3,:])\n",
    "plt.show()"
   ]
  },
  {
   "attachments": {},
   "cell_type": "markdown",
   "metadata": {},
   "source": [
    "Manipulate decision"
   ]
  },
  {
   "cell_type": "code",
   "execution_count": null,
   "metadata": {},
   "outputs": [],
   "source": [
    "# Optogentic manipulation of the decision maker, here we change the decision bound theta\n",
    "\n",
    "# Define DDM parameters\n",
    "mu = 0.5 # drift\n",
    "theta = 1 # bound\n",
    "z = 0 # starting point\n",
    "sigma = 1 # noise std\n",
    "b = 0 # time varying bound\n",
    "\n",
    "# Define simulation parameters\n",
    "n_trials = 1000\n",
    "dt = .001\n",
    "T = 10\n",
    "\n",
    "# Define optogenetic parameters\n",
    "t = np.arange(0, T, dt) # simulation time\n",
    "theta = theta*np.ones((t.size,1))\n",
    "clamp_time = np.where(np.logical_and(t >= 0, t <= 9.0))[0] # 500 msec stimulation\n",
    "clamp_val = np.nan*np.ones((clamp_time.size,1))\n",
    "theta[clamp_time] = clamp_val # stimulation time, clamp value\n",
    "\n",
    "# Run simulation\n",
    "S, traj = ddm.sim_ddm(mu, theta, z, sigma, n_trials, dt, T)"
   ]
  },
  {
   "cell_type": "code",
   "execution_count": null,
   "metadata": {},
   "outputs": [],
   "source": [
    "# Plot a trajectory\n",
    "plt.figure(figsize=(10,5))\n",
    "plt.plot(t, traj[0,:])\n",
    "plt.plot(t, traj[1,:])\n",
    "plt.plot(t, traj[3,:])\n",
    "plt.show()"
   ]
  }
 ],
 "metadata": {
  "kernelspec": {
   "display_name": "base",
   "language": "python",
   "name": "python3"
  },
  "language_info": {
   "name": "python",
   "version": "3.9.12"
  },
  "orig_nbformat": 4,
  "vscode": {
   "interpreter": {
    "hash": "3d597f4c481aa0f25dceb95d2a0067e73c0966dcbd003d741d821a7208527ecf"
   }
  }
 },
 "nbformat": 4,
 "nbformat_minor": 2
}
