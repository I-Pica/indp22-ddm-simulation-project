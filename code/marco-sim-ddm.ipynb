{
 "cells": [
  {
   "cell_type": "markdown",
   "metadata": {},
   "source": [
    "- Basic setup to simulate trajectories with 3 parameters (drift, bound, starting point) using Euler Mayurama  method\n",
    "\t- Obtain histograms and psychometrics\n",
    "\t- Compare to analytic solutions, explore the error of the approximation with dt\n",
    "\t- Explore dependence of histograms and psychometrics with parameter values\n",
    "- Add time varying bound, variability in parameters\n",
    "- Explore race models\n",
    "\n",
    "- \"Optogenetic manipulations\"\n",
    "\t- \"Sensory neurons\" vs \"Integrator neurons\"\n",
    "\t- Bound \"deletion\"\n",
    "        - Other ways?\n",
    "\n",
    "- History effects\n",
    "\t- Explore updates on starting point and drifts\n",
    "\t- Also post error slowing (increase bounds after errors)"
   ]
  },
  {
   "cell_type": "code",
   "execution_count": 1,
   "metadata": {},
   "outputs": [],
   "source": [
    "# @title Import packages\n",
    "import numpy as np\n",
    "import matplotlib.pyplot as plt\n",
    "import importlib\n",
    "# import all functions defined in ddm.py\n",
    "import ddm\n",
    "\n",
    "# set the font size of plots\n",
    "font = {'size'   : 14}\n",
    "plt.rc('font', **font)"
   ]
  },
  {
   "cell_type": "code",
   "execution_count": 2,
   "metadata": {},
   "outputs": [
    {
     "data": {
      "text/plain": [
       "<module 'ddm' from '/Users/marcocolnaghi/Documents/INCDP/Classes/DecisionMaking/indp22-ddm-simulation-project/code/ddm.py'>"
      ]
     },
     "execution_count": 2,
     "metadata": {},
     "output_type": "execute_result"
    }
   ],
   "source": [
    "# Reload all functions from the ddm.py file\n",
    "# use after making changes in ddm.py.\n",
    "importlib.reload(ddm)"
   ]
  },
  {
   "cell_type": "code",
   "execution_count": 3,
   "metadata": {},
   "outputs": [],
   "source": [
    "# Define DDM parameters\n",
    "mu = 0.5 # drift\n",
    "theta = 1 # bound\n",
    "z = 0 # starting point\n",
    "sigma = 1 # noise std\n",
    "b = 0 # time varying bound\n",
    "\n",
    "# Define simulation parameters\n",
    "n_trials = 1000\n",
    "dt = .001\n",
    "T = 10"
   ]
  },
  {
   "cell_type": "code",
   "execution_count": 4,
   "metadata": {},
   "outputs": [],
   "source": [
    "# Run single Simulation\n",
    "S, hits, errs, thetas, traj = ddm.sim_ddm(mu, theta, b, z, sigma, n_trials, dt, T)"
   ]
  },
  {
   "cell_type": "code",
   "execution_count": 5,
   "metadata": {},
   "outputs": [],
   "source": [
    "bins = np.linspace(0, 6, 30)"
   ]
  },
  {
   "cell_type": "code",
   "execution_count": 6,
   "metadata": {},
   "outputs": [
    {
     "ename": "NameError",
     "evalue": "name 't' is not defined",
     "output_type": "error",
     "traceback": [
      "\u001b[0;31m---------------------------------------------------------------------------\u001b[0m",
      "\u001b[0;31mNameError\u001b[0m                                 Traceback (most recent call last)",
      "\u001b[0;32m/var/folders/sv/03wtqxsn5yz46tbyt_j1vp340000gn/T/ipykernel_80881/2151708948.py\u001b[0m in \u001b[0;36m<module>\u001b[0;34m\u001b[0m\n\u001b[1;32m      1\u001b[0m \u001b[0;31m# Plot Trajectories with RT histograms\u001b[0m\u001b[0;34m\u001b[0m\u001b[0;34m\u001b[0m\u001b[0m\n\u001b[1;32m      2\u001b[0m \u001b[0;34m\u001b[0m\u001b[0m\n\u001b[0;32m----> 3\u001b[0;31m \u001b[0mddm\u001b[0m\u001b[0;34m.\u001b[0m\u001b[0mplot_trajectories_and_RT\u001b[0m\u001b[0;34m(\u001b[0m\u001b[0mS\u001b[0m\u001b[0;34m,\u001b[0m \u001b[0mhits\u001b[0m\u001b[0;34m,\u001b[0m \u001b[0merrs\u001b[0m\u001b[0;34m,\u001b[0m \u001b[0mtraj\u001b[0m\u001b[0;34m,\u001b[0m \u001b[0mt\u001b[0m\u001b[0;34m,\u001b[0m \u001b[0mbins\u001b[0m\u001b[0;34m)\u001b[0m\u001b[0;34m\u001b[0m\u001b[0;34m\u001b[0m\u001b[0m\n\u001b[0m",
      "\u001b[0;31mNameError\u001b[0m: name 't' is not defined"
     ]
    }
   ],
   "source": [
    "# Plot Trajectories with RT histograms\n",
    "\n",
    "ddm.plot_trajectories_and_RT(S, hits, errs, traj, t, bins)\n"
   ]
  },
  {
   "cell_type": "code",
   "execution_count": null,
   "metadata": {},
   "outputs": [],
   "source": [
    "# Run DDM simulations for different drifts\n",
    "n_mu = 21\n",
    "mu_list = 2*np.linspace(-1, 1, n_mu)\n",
    "z_list = 0*np.concatenate((-np.ones((10,)),\\\n",
    "                              np.zeros((1,)),\\\n",
    "                              np.ones((10,))))\n",
    "b = 0.01\n",
    "# Preallocate results\n",
    "S_list = []\n",
    "hits_list = []\n",
    "errs_list = []\n",
    "for i, mu in enumerate(mu_list):\n",
    "    z = z_list[i]\n",
    "    # Simulate trajectories\n",
    "    S, hits, errs, thetas, traj = ddm.sim_ddm(mu, theta, b, z, sigma, n_trials, dt, T)\n",
    "    S_list.append(S)\n",
    "    hits_list.append(hits)\n",
    "    errs_list.append(errs)"
   ]
  },
  {
   "cell_type": "code",
   "execution_count": null,
   "metadata": {},
   "outputs": [],
   "source": []
  },
  {
   "cell_type": "code",
   "execution_count": null,
   "metadata": {},
   "outputs": [],
   "source": []
  },
  {
   "cell_type": "code",
   "execution_count": null,
   "metadata": {},
   "outputs": [],
   "source": []
  },
  {
   "cell_type": "code",
   "execution_count": null,
   "metadata": {},
   "outputs": [],
   "source": [
    "print(traj.shape)"
   ]
  },
  {
   "cell_type": "code",
   "execution_count": null,
   "metadata": {},
   "outputs": [],
   "source": []
  },
  {
   "cell_type": "code",
   "execution_count": null,
   "metadata": {},
   "outputs": [],
   "source": [
    "bins = np.linspace(0, 6, 30)"
   ]
  },
  {
   "cell_type": "code",
   "execution_count": null,
   "metadata": {
    "scrolled": false
   },
   "outputs": [],
   "source": [
    "plt.hist(S[:,1],bins);\n",
    "plt.xlabel('Reaction Time (s)');\n",
    "plt.ylabel('Trial Count');\n"
   ]
  },
  {
   "cell_type": "code",
   "execution_count": null,
   "metadata": {},
   "outputs": [],
   "source": [
    "correct = np.where(S[:,0]==1)[0]\n",
    "incorrect = np.where(S[:,0]==0)[0]\n",
    "\n",
    "traj[trialExample[1],:]"
   ]
  },
  {
   "cell_type": "code",
   "execution_count": null,
   "metadata": {
    "scrolled": false
   },
   "outputs": [],
   "source": [
    "trialExample = [correct[4], incorrect[5]]\n",
    "ranget = [np.sum(~np.isnan(traj[trialExample[0],:])), np.sum(~np.isnan(traj[trialExample[1],:]))]\n",
    "\n",
    "fig, axes = plt.subplots(nrows=3, ncols=1, sharex=True, figsize=(10,10))\n",
    "\n",
    "#axes[0].subplots_adjust(hspace=0)\n",
    "axes[0].hist(S[correct,1], bins,density=True, color='teal');\n",
    "\n",
    "axes[1].plot(t[0:ranget[0]], traj[trialExample[0],0:ranget[0]].T,color='teal');\n",
    "axes[1].plot(t[0:ranget[1]], traj[trialExample[1],0:ranget[1]].T,color='orange');\n",
    "axes[1].set_ylim([-1, 1])\n",
    "axes[2].hist(S[incorrect,1], bins, density=True,color='orange');\n",
    "axes[2].invert_yaxis()\n",
    "plt.subplots_adjust(hspace=0)\n",
    "\n",
    "#plt.xlabel('Reaction Time (s)');\n",
    "#plt.ylabel('Trial Count');"
   ]
  },
  {
   "cell_type": "code",
   "execution_count": null,
   "metadata": {},
   "outputs": [],
   "source": [
    "plt.plot(traj[incorrect,:].T);"
   ]
  },
  {
   "cell_type": "code",
   "execution_count": null,
   "metadata": {},
   "outputs": [],
   "source": [
    "ds_traj = traj[:, np.arange(0,n_t,50)]"
   ]
  },
  {
   "cell_type": "code",
   "execution_count": null,
   "metadata": {},
   "outputs": [],
   "source": [
    "plt.plot(ds_traj[incorrect,:].T);"
   ]
  },
  {
   "cell_type": "code",
   "execution_count": null,
   "metadata": {},
   "outputs": [],
   "source": [
    "histbins = np.linspace(-1,1,20)\n",
    "plt.hist(ds_traj[incorrect,1].T, histbins, alpha = 0.5);\n",
    "plt.hist(ds_traj[incorrect,6].T, histbins, alpha = 0.5);\n",
    "plt.hist(ds_traj[incorrect,11].T, histbins, alpha = 0.5);\n",
    "plt.hist(ds_traj[incorrect,16].T, histbins, alpha = 0.5);"
   ]
  },
  {
   "cell_type": "code",
   "execution_count": null,
   "metadata": {},
   "outputs": [],
   "source": []
  }
 ],
 "metadata": {
  "kernelspec": {
   "display_name": "Python 3 (ipykernel)",
   "language": "python",
   "name": "python3"
  },
  "language_info": {
   "codemirror_mode": {
    "name": "ipython",
    "version": 3
   },
   "file_extension": ".py",
   "mimetype": "text/x-python",
   "name": "python",
   "nbconvert_exporter": "python",
   "pygments_lexer": "ipython3",
   "version": "3.9.13"
  },
  "vscode": {
   "interpreter": {
    "hash": "cb3c014bf72b0e00aec441227a2724b03aa881ed9cd8247ea69d81aee3aad2fa"
   }
  }
 },
 "nbformat": 4,
 "nbformat_minor": 2
}
