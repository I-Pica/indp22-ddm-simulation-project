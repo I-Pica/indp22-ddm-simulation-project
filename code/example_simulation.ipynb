{
 "cells": [
  {
   "cell_type": "code",
   "execution_count": 8,
   "metadata": {},
   "outputs": [],
   "source": [
    "# @title Import packages\n",
    "import numpy as np\n",
    "import matplotlib.pyplot as plt\n",
    "import importlib\n",
    "# import all functions defined in ddm.py\n",
    "import ddm\n",
    "import plottingddm\n",
    "\n",
    "# set the font size of plots\n",
    "font = {'size'   : 14}\n",
    "plt.rc('font', **font)"
   ]
  },
  {
   "cell_type": "code",
   "execution_count": 7,
   "metadata": {},
   "outputs": [],
   "source": [
    "# Define DDM parameters\n",
    "mu = 0.5 # drift\n",
    "theta = 1 # bound\n",
    "z = 0 # starting point\n",
    "sigma = 1 # noise std\n",
    "b = 0.1 # time varying bound\n",
    "\n",
    "# Define simulation parameters\n",
    "n_trials = 1000\n",
    "dt = .001\n",
    "T = 10\n",
    "\n",
    "t = np.arange(0, T, dt)\n",
    "theta = theta*np.ones((t.size,1))\n",
    "\n",
    "# Run DDM simulations for different drifts\n",
    "n_mu = 21\n",
    "mu_list = 2*np.linspace(-1, 1, n_mu)\n",
    "z_list = 0*np.concatenate((-np.ones((10,)),\\\n",
    "                              np.zeros((1,)),\\\n",
    "                              np.ones((10,))))\n",
    "b = 0.01\n",
    "# Preallocate results\n",
    "S_list = []\n",
    "hits_list = []\n",
    "errs_list = []\n",
    "for i, mu in enumerate(mu_list):\n",
    "    z = z_list[i]\n",
    "    # Simulate trajectories\n",
    "    S, _ = ddm.sim_ddm(mu, theta, z, sigma, n_trials, dt, T)\n",
    "    S_list.append(S)\n",
    "    hits, errs = ddm.calc_hits_errs(S, mu)\n",
    "    hits_list.append(hits)\n",
    "    errs_list.append(errs)"
   ]
  },
  {
   "cell_type": "code",
   "execution_count": 10,
   "metadata": {},
   "outputs": [
    {
     "ename": "NameError",
     "evalue": "name 'plot_rt_hist' is not defined",
     "output_type": "error",
     "traceback": [
      "\u001b[0;31m---------------------------------------------------------------------------\u001b[0m",
      "\u001b[0;31mNameError\u001b[0m                                 Traceback (most recent call last)",
      "\u001b[0;32m/var/folders/sv/03wtqxsn5yz46tbyt_j1vp340000gn/T/ipykernel_20101/978969073.py\u001b[0m in \u001b[0;36m<module>\u001b[0;34m\u001b[0m\n\u001b[1;32m      5\u001b[0m \u001b[0merrs\u001b[0m \u001b[0;34m=\u001b[0m \u001b[0mS_list\u001b[0m\u001b[0;34m[\u001b[0m\u001b[0mmu_i\u001b[0m\u001b[0;34m]\u001b[0m\u001b[0;34m[\u001b[0m\u001b[0merrs_list\u001b[0m\u001b[0;34m[\u001b[0m\u001b[0mmu_i\u001b[0m\u001b[0;34m]\u001b[0m\u001b[0;34m,\u001b[0m\u001b[0;36m1\u001b[0m\u001b[0;34m]\u001b[0m\u001b[0;34m\u001b[0m\u001b[0;34m\u001b[0m\u001b[0m\n\u001b[1;32m      6\u001b[0m \u001b[0;34m\u001b[0m\u001b[0m\n\u001b[0;32m----> 7\u001b[0;31m \u001b[0mplot_rt_hist\u001b[0m\u001b[0;34m(\u001b[0m\u001b[0mhits\u001b[0m\u001b[0;34m,\u001b[0m \u001b[0merrs\u001b[0m\u001b[0;34m)\u001b[0m\u001b[0;34m\u001b[0m\u001b[0;34m\u001b[0m\u001b[0m\n\u001b[0m\u001b[1;32m      8\u001b[0m \u001b[0mplt\u001b[0m\u001b[0;34m.\u001b[0m\u001b[0mtitle\u001b[0m\u001b[0;34m(\u001b[0m\u001b[0;34m'Reaction time distribution\\n for drift={:.2f}'\u001b[0m\u001b[0;34m.\u001b[0m\u001b[0mformat\u001b[0m\u001b[0;34m(\u001b[0m\u001b[0mmu_list\u001b[0m\u001b[0;34m[\u001b[0m\u001b[0mmu_i\u001b[0m\u001b[0;34m]\u001b[0m\u001b[0;34m)\u001b[0m\u001b[0;34m)\u001b[0m\u001b[0;34m\u001b[0m\u001b[0;34m\u001b[0m\u001b[0m\n\u001b[1;32m      9\u001b[0m \u001b[0mplt\u001b[0m\u001b[0;34m.\u001b[0m\u001b[0mshow\u001b[0m\u001b[0;34m(\u001b[0m\u001b[0;34m)\u001b[0m\u001b[0;34m\u001b[0m\u001b[0;34m\u001b[0m\u001b[0m\n",
      "\u001b[0;31mNameError\u001b[0m: name 'plot_rt_hist' is not defined"
     ]
    }
   ],
   "source": [
    "# Plot the reaction time distributions for the hit and error trials, for example mu\n",
    "mu_i = 15 # example mu\n",
    "\n",
    "hits = S_list[mu_i][hits_list[mu_i],1]\n",
    "errs = S_list[mu_i][errs_list[mu_i],1]\n",
    "\n",
    "ddm.plot_rt_hist(hits, errs)\n",
    "plt.title('Reaction time distribution\\n for drift={:.2f}'.format(mu_list[mu_i]))\n",
    "plt.show()"
   ]
  },
  {
   "cell_type": "code",
   "execution_count": null,
   "metadata": {},
   "outputs": [],
   "source": [
    "# Plot a psychometric curve\n",
    "prob_a = ddm.calc_psychometric(S_list, mu_list)\n",
    "ddm.plot_psychometric(prob_a, mu_list)\n",
    "plt.title('Psychometric function for\\n a basic drift diffusion model')\n",
    "plt.show()"
   ]
  },
  {
   "cell_type": "code",
   "execution_count": null,
   "metadata": {},
   "outputs": [],
   "source": [
    "# Plot the quantile probability function\n",
    "ddm.plot_quantile_prob_func(S_list, hits_list, errs_list, mu_list, prob_a)\n",
    "plt.title('Quantile probability function')\n",
    "plt.show()"
   ]
  }
 ],
 "metadata": {
  "kernelspec": {
   "display_name": "base",
   "language": "python",
   "name": "python3"
  },
  "language_info": {
   "codemirror_mode": {
    "name": "ipython",
    "version": 3
   },
   "file_extension": ".py",
   "mimetype": "text/x-python",
   "name": "python",
   "nbconvert_exporter": "python",
   "pygments_lexer": "ipython3",
   "version": "3.9.13"
  },
  "orig_nbformat": 4,
  "vscode": {
   "interpreter": {
    "hash": "eb7121df142009fcf89f6b163f199dfdb0469517b7b428971de9129326261fa3"
   }
  }
 },
 "nbformat": 4,
 "nbformat_minor": 2
}
