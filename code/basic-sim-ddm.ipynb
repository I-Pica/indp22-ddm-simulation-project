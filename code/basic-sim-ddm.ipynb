{
 "cells": [
  {
   "attachments": {},
   "cell_type": "markdown",
   "metadata": {},
   "source": [
    "- Basic setup to simulate trajectories with 3 parameters (drift, bound, starting point) using Euler Mayurama  method\n",
    "\t- Obtain histograms and psychometrics\n",
    "\t- Compare to analytic solutions, explore the error of the approximation with dt\n",
    "\t- Explore dependence of histograms and psychometrics with parameter values\n",
    "- Add time varying bound, variability in parameters\n",
    "- Explore race models\n",
    "\n",
    "- \"Optogenetic manipulations\"\n",
    "\t- \"Sensory neurons\" vs \"Integrator neurons\"\n",
    "\t- Bound \"deletion\"\n",
    "        - Other ways?\n",
    "\n",
    "- History effects\n",
    "\t- Explore updates on starting point and drifts\n",
    "\t- Also post error slowing (increase bounds after errors)"
   ]
  },
  {
   "attachments": {},
   "cell_type": "markdown",
   "metadata": {},
   "source": [
    "### Basic setup"
   ]
  },
  {
   "cell_type": "code",
   "execution_count": 6,
   "metadata": {},
   "outputs": [],
   "source": [
    "import numpy as np\n",
    "\n",
    "# Define DDM parameters\n",
    "mu = 0.5 # drift\n",
    "theta = 1 # bound\n",
    "z = 0 # starting point\n",
    "sigma = 1 # noise std\n",
    "\n",
    "# Define simulation parameters\n",
    "n_trials = 1000\n",
    "dt = .001\n",
    "T = 10\n",
    "\n",
    "# time array and prealocate results\n",
    "t = np.arange(0, T, dt)\n",
    "n_t = t.size\n",
    "S = -np.ones((n_trials,2))\n",
    "\n",
    "# Simulate trajectories\n",
    "\n",
    "for j in range(n_trials):\n",
    "    \n",
    "    dW   = np.random.randn(n_t,1)\n",
    "    dx   =  # complete\n",
    "    x    = np.cumsum(dx,0)\n",
    "    \n",
    "    for i in range(n_t):\n",
    "             \n",
    "        if  #complete\n",
    "           S[j,:] = [1, t[i]]                                         \n",
    "           break\n",
    "        elif  #complete\n",
    "           S[j,:] = [0, t[i]]         \n",
    "           break\n",
    "    \n"
   ]
  },
  {
   "attachments": {},
   "cell_type": "markdown",
   "metadata": {},
   "source": [
    "Expand next cell to see solution"
   ]
  },
  {
   "cell_type": "code",
   "execution_count": null,
   "metadata": {},
   "outputs": [],
   "source": [
    "import numpy as np\n",
    "\n",
    "# Define DDM parameters\n",
    "mu = 0.5 # drift\n",
    "theta = 1 # bound\n",
    "z = 0 # starting point\n",
    "sigma = 1 # noise std\n",
    "\n",
    "# Define simulation parameters\n",
    "n_trials = 1000\n",
    "dt = .001\n",
    "T = 10\n",
    "\n",
    "# time array and prealocate results\n",
    "t = np.arange(0, T, dt)\n",
    "n_t = t.size\n",
    "S = -np.ones((n_trials,2))\n",
    "\n",
    "# Simulate trajectories\n",
    "\n",
    "for j in range(n_trials):\n",
    "    \n",
    "    dW   = np.random.randn(n_t,1)\n",
    "    dx   = dW*np.sqrt(dt) + mu*dt\n",
    "    x    = np.cumsum(dx,0)\n",
    "    \n",
    "    for i in range(n_t):\n",
    "             \n",
    "        if (x[i] >= theta):\n",
    "           S[j,:] = [1, t[i]]                                         \n",
    "           break\n",
    "        elif (x[i] <= -theta):\n",
    "           S[j,:] = [0, t[i]]         \n",
    "           break\n",
    "    "
   ]
  }
 ],
 "metadata": {
  "kernelspec": {
   "display_name": "Python 3.10.8 ('control_neurons')",
   "language": "python",
   "name": "python3"
  },
  "language_info": {
   "codemirror_mode": {
    "name": "ipython",
    "version": 3
   },
   "file_extension": ".py",
   "mimetype": "text/x-python",
   "name": "python",
   "nbconvert_exporter": "python",
   "pygments_lexer": "ipython3",
   "version": "3.10.8"
  },
  "orig_nbformat": 4,
  "vscode": {
   "interpreter": {
    "hash": "cb3c014bf72b0e00aec441227a2724b03aa881ed9cd8247ea69d81aee3aad2fa"
   }
  }
 },
 "nbformat": 4,
 "nbformat_minor": 2
}
