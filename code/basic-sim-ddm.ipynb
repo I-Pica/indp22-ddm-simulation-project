{
 "cells": [
  {
   "cell_type": "code",
   "execution_count": 106,
   "metadata": {},
   "outputs": [],
   "source": [
    "# @title Import packages\n",
    "import numpy as np\n",
    "import matplotlib.pyplot as plt\n",
    "\n",
    "# set the font size of plots\n",
    "font = {'family' : 'normal',\n",
    "        'size'   : 14}\n",
    "plt.rc('font', **font)"
   ]
  },
  {
   "attachments": {},
   "cell_type": "markdown",
   "metadata": {},
   "source": [
    "- Basic setup to simulate trajectories with 3 parameters (drift, bound, starting point) using Euler Mayurama  method\n",
    "\t- Obtain histograms and psychometrics\n",
    "\t- Compare to analytic solutions, explore the error of the approximation with dt\n",
    "\t- Explore dependence of histograms and psychometrics with parameter values\n",
    "- Add time varying bound, variability in parameters\n",
    "- Explore race models\n",
    "\n",
    "- \"Optogenetic manipulations\"\n",
    "\t- \"Sensory neurons\" vs \"Integrator neurons\"\n",
    "\t- Bound \"deletion\"\n",
    "        - Other ways?\n",
    "\n",
    "- History effects\n",
    "\t- Explore updates on starting point and drifts\n",
    "\t- Also post error slowing (increase bounds after errors)"
   ]
  },
  {
   "attachments": {},
   "cell_type": "markdown",
   "metadata": {},
   "source": [
    "### Basic setup"
   ]
  },
  {
   "cell_type": "code",
   "execution_count": 101,
   "metadata": {},
   "outputs": [],
   "source": [
    "# @title Functions\n",
    "def sim_ddm(mu=0.5, theta=1, b=0, z=0, sigma=1, n_trials=1000, dt=.001, T=10):\n",
    "   # time array and prealocate results\n",
    "   t = np.arange(0, T, dt)\n",
    "   n_t = t.size\n",
    "   S = -np.ones((n_trials,2))\n",
    "   # compute time varying bounds for b != 0\n",
    "   thetas = theta/(1+(b/dt*np.linspace(0, 1, n_t)))\n",
    "   \n",
    "   for tr in range(n_trials):\n",
    "      dW   = np.random.randn(n_t,1) # noise vector\n",
    "      dx   = mu*dt + sigma*dW*np.sqrt(dt)\n",
    "      dx[0] += z # starting point\n",
    "      x    = np.cumsum(dx,0)\n",
    "    \n",
    "      for ti in range(n_t):\n",
    "         if x[ti] >= thetas[ti]:\n",
    "            S[tr,:] = [1, t[ti]]                                         \n",
    "            break\n",
    "         elif x[ti] <= -thetas[ti]:\n",
    "            S[tr,:] = [0, t[ti]]         \n",
    "            break\n",
    "\n",
    "   # Get the hit and error trials\n",
    "   if np.sign(mu)>0:\n",
    "      hits = np.where(S[:,0]==1)\n",
    "      errs = np.where(S[:,0]==0)\n",
    "   else:\n",
    "      hits = np.where(S[:,0]==0)\n",
    "      errs = np.where(S[:,0]==1)\n",
    "   return S, hits, errs, thetas\n",
    "\n",
    "def plot_rt_hist(hits, errs):\n",
    "   '''\n",
    "   Plot the reaction time distributions for the hit and error trials\n",
    "   '''\n",
    "   \n",
    "   rt_hits_hist, rt_hits_bin_edges = np.histogram(hits)\n",
    "   rt_errs_hist, rt_errs_bin_edges = np.histogram(errs)\n",
    "\n",
    "   plt.figure(figsize=(5,5))\n",
    "   plt.stairs(rt_hits_hist, rt_hits_bin_edges, label='hits')\n",
    "   plt.stairs(rt_errs_hist, rt_errs_bin_edges, label='errors')\n",
    "   plt.xlabel('Reaction time')\n",
    "   plt.ylabel('Count')\n",
    "   plt.legend(loc='upper right');\n",
    "   return 0\n",
    "\n",
    "def plot_psychometric(S_list, mu_list):\n",
    "   '''\n",
    "   Plot the psychometric curve for the given responses and drift\n",
    "   parameters.\n",
    "   '''\n",
    "   n_mu = len(mu_list)\n",
    "   a_rate = np.zeros((n_mu,))\n",
    "   b_rate = np.zeros((n_mu,))\n",
    "   for i in range(n_mu):\n",
    "      a_rate[i] = np.sum(S_list[i]==1)\n",
    "      b_rate[i] = np.sum(S_list[i]==0)\n",
    "   prob_a = np.divide(a_rate, a_rate+b_rate) # probability of a\n",
    "\n",
    "   plt.figure(figsize=(5,5))\n",
    "   plt.scatter(mu_list, prob_a, color='k')\n",
    "   plt.xlabel('Drift')\n",
    "   plt.ylabel('Porbability of a')\n",
    "   plt.xlim([np.min(mu_list)*1.05, np.max(mu_list)*1.05])\n",
    "   plt.ylim([0-0.05, 1+0.05]);\n",
    "   return prob_a\n",
    "\n",
    "def plot_quantile_prob_func(S_list, hits_list, errs_list, mu_list, prob_a):\n",
    "   '''\n",
    "   Plot the quantile probability function for the reaction times of a\n",
    "   drift diffusion model.\n",
    "   '''\n",
    "   n_mu = len(mu_list)\n",
    "   quantile_list = np.linspace(10,90,5)\n",
    "   rt_quantiles = np.nan*np.ones((n_mu, len(quantile_list)))\n",
    "   for mu_i in range(n_mu): # skip drift equal to zero\n",
    "      um_i = n_mu-mu_i-1 # id of drift with same magnitude but opposite sign\n",
    "      if mu_list[mu_i] < 0: # drift to b\n",
    "         # errors for drifts to a and b, respectively\n",
    "         rt_errs = np.concatenate((S_list[um_i][errs_list[um_i][0],1],\\\n",
    "                                    S_list[mu_i][errs_list[mu_i][0],1]))\n",
    "         rt_quantiles[mu_i,:] = np.percentile(rt_errs, quantile_list)\n",
    "      elif mu_list[mu_i] > 0: # drift to a\n",
    "         # hits for drifts to a and b, respectively\n",
    "         rt_hits = np.concatenate((S_list[mu_i][hits_list[mu_i][0],1],\\\n",
    "                                    S_list[um_i][hits_list[um_i][0],1]))\n",
    "         rt_quantiles[mu_i,:] = np.percentile(rt_hits, quantile_list)\n",
    "\n",
    "   plt.figure(figsize=(5,5))\n",
    "   plt.plot(prob_a, rt_quantiles, marker='x', linestyle='')\n",
    "   plt.xlabel('Probability of a')\n",
    "   plt.ylabel('Reaction time quantile');\n",
    "   return rt_quantiles"
   ]
  },
  {
   "cell_type": "code",
   "execution_count": null,
   "metadata": {},
   "outputs": [],
   "source": [
    "# Define DDM parameters\n",
    "mu = 0.5 # drift\n",
    "theta = 1 # bound\n",
    "z = 0 # starting point\n",
    "sigma = 1 # noise std\n",
    "b = 0.1 # time varying bound\n",
    "\n",
    "# Define simulation parameters\n",
    "n_trials = 1000\n",
    "dt = .001\n",
    "T = 10"
   ]
  },
  {
   "cell_type": "code",
   "execution_count": null,
   "metadata": {},
   "outputs": [],
   "source": [
    "# Run DDM simulations for different drifts\n",
    "n_mu = 21\n",
    "mu_list = 2*np.linspace(-1, 1, n_mu)\n",
    "z_list = 0.5*np.concatenate((-np.ones((10,)),\\\n",
    "                              np.zeros((1,)),\\\n",
    "                              np.ones((10,))))\n",
    "b = 0\n",
    "# Preallocate results\n",
    "S_list = []\n",
    "hits_list = []\n",
    "errs_list = []\n",
    "for i, mu in enumerate(mu_list):\n",
    "    z = z_list[i]\n",
    "    # Simulate trajectories\n",
    "    S, hits, errs, thetas = sim_ddm(mu, theta, b, z, sigma, n_trials, dt, T)\n",
    "    S_list.append(S)\n",
    "    hits_list.append(hits)\n",
    "    errs_list.append(errs)"
   ]
  },
  {
   "cell_type": "code",
   "execution_count": 107,
   "metadata": {},
   "outputs": [
    {
     "name": "stderr",
     "output_type": "stream",
     "text": [
      "findfont: Font family ['normal'] not found. Falling back to DejaVu Sans.\n",
      "findfont: Font family ['normal'] not found. Falling back to DejaVu Sans.\n"
     ]
    },
    {
     "data": {
      "image/png": "[encoded data removed]",
      "text/plain": [
       "<Figure size 360x360 with 1 Axes>"
      ]
     },
     "metadata": {
      "needs_background": "light"
     },
     "output_type": "display_data"
    }
   ],
   "source": [
    "# Plot the reaction time distributions for the hit and error trials, for example mu\n",
    "mu_i = 15 # example mu\n",
    "\n",
    "hits = S_list[mu_i][hits_list[mu_i],1]\n",
    "errs = S_list[mu_i][errs_list[mu_i],1]\n",
    "\n",
    "plot_rt_hist(hits, errs)\n",
    "plt.title('Reaction time distribution\\n for drift={:.2f}'.format(mu_list[mu_i]))\n",
    "plt.show()"
   ]
  },
  {
   "cell_type": "code",
   "execution_count": 105,
   "metadata": {},
   "outputs": [
    {
     "data": {
      "image/png": "[encoded data removed]",
      "text/plain": [
       "<Figure size 360x360 with 1 Axes>"
      ]
     },
     "metadata": {
      "needs_background": "light"
     },
     "output_type": "display_data"
    }
   ],
   "source": [
    "# Plot a psychometric curve\n",
    "prob_a = plot_psychometric(S_list, mu_list)\n",
    "plt.title('Psychometric function for\\n a basic drift diffusion model')\n",
    "plt.show()"
   ]
  },
  {
   "cell_type": "code",
   "execution_count": 102,
   "metadata": {},
   "outputs": [
    {
     "data": {
      "image/png": "[encoded data removed]",
      "text/plain": [
       "<Figure size 360x360 with 1 Axes>"
      ]
     },
     "metadata": {
      "needs_background": "light"
     },
     "output_type": "display_data"
    }
   ],
   "source": [
    "# Plot the quantile probability function\n",
    "plot_quantile_prob_func(S_list, hits_list, errs_list, mu_list, prob_a)\n",
    "plt.title('Quantile probability function')\n",
    "plt.show()"
   ]
  },
  {
   "attachments": {},
   "cell_type": "markdown",
   "metadata": {},
   "source": [
    "Expand next cell to see solution"
   ]
  },
  {
   "cell_type": "code",
   "execution_count": null,
   "metadata": {},
   "outputs": [],
   "source": [
    "# import numpy as np\n",
    "\n",
    "# # Define DDM parameters\n",
    "# mu = 0.5 # drift\n",
    "# theta = 1 # bound\n",
    "# z = 0 # starting point\n",
    "# sigma = 1 # noise std\n",
    "\n",
    "# # Define simulation parameters\n",
    "# n_trials = 1000\n",
    "# dt = .001\n",
    "# T = 10\n",
    "\n",
    "# # time array and prealocate results\n",
    "# t = np.arange(0, T, dt)\n",
    "# n_t = t.size\n",
    "# S = -np.ones((n_trials,2))\n",
    "\n",
    "# # Simulate trajectories\n",
    "\n",
    "# for j in range(n_trials):\n",
    "    \n",
    "#     dW   = np.random.randn(n_t,1)\n",
    "#     dx   = dW*np.sqrt(dt) + mu*dt\n",
    "#     x    = np.cumsum(dx,0)\n",
    "    \n",
    "#     for i in range(n_t):\n",
    "             \n",
    "#         if (x[i] >= theta):\n",
    "#            S[j,:] = [1, t[i]]                                         \n",
    "#            break\n",
    "#         elif (x[i] <= -theta):\n",
    "#            S[j,:] = [0, t[i]]         \n",
    "#            break\n",
    "    "
   ]
  }
 ],
 "metadata": {
  "kernelspec": {
   "display_name": "base",
   "language": "python",
   "name": "python3"
  },
  "language_info": {
   "codemirror_mode": {
    "name": "ipython",
    "version": 3
   },
   "file_extension": ".py",
   "mimetype": "text/x-python",
   "name": "python",
   "nbconvert_exporter": "python",
   "pygments_lexer": "ipython3",
   "version": "3.9.12"
  },
  "orig_nbformat": 4,
  "vscode": {
   "interpreter": {
    "hash": "3d597f4c481aa0f25dceb95d2a0067e73c0966dcbd003d741d821a7208527ecf"
   }
  }
 },
 "nbformat": 4,
 "nbformat_minor": 2
}
