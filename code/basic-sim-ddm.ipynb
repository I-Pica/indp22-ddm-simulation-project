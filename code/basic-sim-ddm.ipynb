{
 "cells": [
  {
   "cell_type": "code",
   "execution_count": 1,
   "metadata": {},
   "outputs": [],
   "source": [
    "# @title Import packages\n",
    "import numpy as np\n",
    "import matplotlib.pyplot as plt"
   ]
  },
  {
   "attachments": {},
   "cell_type": "markdown",
   "metadata": {},
   "source": [
    "- Basic setup to simulate trajectories with 3 parameters (drift, bound, starting point) using Euler Mayurama  method\n",
    "\t- Obtain histograms and psychometrics\n",
    "\t- Compare to analytic solutions, explore the error of the approximation with dt\n",
    "\t- Explore dependence of histograms and psychometrics with parameter values\n",
    "- Add time varying bound, variability in parameters\n",
    "- Explore race models\n",
    "\n",
    "- \"Optogenetic manipulations\"\n",
    "\t- \"Sensory neurons\" vs \"Integrator neurons\"\n",
    "\t- Bound \"deletion\"\n",
    "        - Other ways?\n",
    "\n",
    "- History effects\n",
    "\t- Explore updates on starting point and drifts\n",
    "\t- Also post error slowing (increase bounds after errors)"
   ]
  },
  {
   "attachments": {},
   "cell_type": "markdown",
   "metadata": {},
   "source": [
    "### Basic setup"
   ]
  },
  {
   "cell_type": "code",
   "execution_count": 14,
   "metadata": {},
   "outputs": [],
   "source": [
    "# @title Functions\n",
    "def sim_ddm(mu=0.5, theta=1, z=0, sigma=1, n_trials=1000, dt=.001, T=10):\n",
    "   # time array and prealocate results\n",
    "   t = np.arange(0, T, dt)\n",
    "   n_t = t.size\n",
    "   S = -np.ones((n_trials,2))\n",
    "\n",
    "   for tr in range(n_trials):\n",
    "      dW   = np.random.randn(n_t,1) # noise vector\n",
    "      dx   = mu*dt + sigma*dW*np.sqrt(dt)\n",
    "      x    = np.cumsum(dx,0)\n",
    "    \n",
    "      for ti in range(n_t):\n",
    "         if x[ti] >= theta:\n",
    "            S[tr,:] = [1, t[ti]]                                         \n",
    "            break\n",
    "         elif x[ti] <= -theta:\n",
    "            S[tr,:] = [0, t[ti]]         \n",
    "            break\n",
    "\n",
    "   # Get the hit and error trials\n",
    "   hits = np.where(S[:,0]==1)\n",
    "   errs = np.where(S[:,0]==0)\n",
    "   return S, hits, errs"
   ]
  },
  {
   "cell_type": "code",
   "execution_count": 11,
   "metadata": {},
   "outputs": [],
   "source": [
    "# Define DDM parameters\n",
    "mu = 0.5 # drift\n",
    "theta = 1 # bound\n",
    "z = 0 # starting point\n",
    "sigma = 1 # noise std\n",
    "\n",
    "# Define simulation parameters\n",
    "n_trials = 1000\n",
    "dt = .001\n",
    "T = 10"
   ]
  },
  {
   "cell_type": "code",
   "execution_count": 15,
   "metadata": {},
   "outputs": [],
   "source": [
    "# Simulate trajectories\n",
    "S, hits, errs = sim_ddm(mu, theta, z, sigma, n_trials, dt, T)"
   ]
  },
  {
   "cell_type": "code",
   "execution_count": 16,
   "metadata": {},
   "outputs": [
    {
     "data": {
      "image/png": "[encoded data removed]",
      "text/plain": [
       "<Figure size 720x360 with 1 Axes>"
      ]
     },
     "metadata": {
      "needs_background": "light"
     },
     "output_type": "display_data"
    }
   ],
   "source": [
    "# Plot the reaction time distributions for the hit and error trials\n",
    "rt_hits_hist, rt_hits_bin_edges = np.histogram(S[hits,1])\n",
    "rt_errs_hist, rt_errs_bin_edges = np.histogram(S[errs,1])\n",
    "\n",
    "plt.figure(figsize=(10,5))\n",
    "plt.stairs(rt_hits_hist, rt_hits_bin_edges, label='hits')\n",
    "plt.stairs(rt_errs_hist, rt_errs_bin_edges, label='errors')\n",
    "plt.xlabel('Reaction time')\n",
    "plt.ylabel('Count')\n",
    "plt.title('Reaction time distribution for drift={}'.format(mu))\n",
    "plt.legend(loc='upper right')\n",
    "plt.show()"
   ]
  },
  {
   "attachments": {},
   "cell_type": "markdown",
   "metadata": {},
   "source": [
    "Expand next cell to see solution"
   ]
  },
  {
   "cell_type": "code",
   "execution_count": 5,
   "metadata": {},
   "outputs": [],
   "source": [
    "# import numpy as np\n",
    "\n",
    "# # Define DDM parameters\n",
    "# mu = 0.5 # drift\n",
    "# theta = 1 # bound\n",
    "# z = 0 # starting point\n",
    "# sigma = 1 # noise std\n",
    "\n",
    "# # Define simulation parameters\n",
    "# n_trials = 1000\n",
    "# dt = .001\n",
    "# T = 10\n",
    "\n",
    "# # time array and prealocate results\n",
    "# t = np.arange(0, T, dt)\n",
    "# n_t = t.size\n",
    "# S = -np.ones((n_trials,2))\n",
    "\n",
    "# # Simulate trajectories\n",
    "\n",
    "# for j in range(n_trials):\n",
    "    \n",
    "#     dW   = np.random.randn(n_t,1)\n",
    "#     dx   = dW*np.sqrt(dt) + mu*dt\n",
    "#     x    = np.cumsum(dx,0)\n",
    "    \n",
    "#     for i in range(n_t):\n",
    "             \n",
    "#         if (x[i] >= theta):\n",
    "#            S[j,:] = [1, t[i]]                                         \n",
    "#            break\n",
    "#         elif (x[i] <= -theta):\n",
    "#            S[j,:] = [0, t[i]]         \n",
    "#            break\n",
    "    "
   ]
  }
 ],
 "metadata": {
  "kernelspec": {
   "display_name": "base",
   "language": "python",
   "name": "python3"
  },
  "language_info": {
   "codemirror_mode": {
    "name": "ipython",
    "version": 3
   },
   "file_extension": ".py",
   "mimetype": "text/x-python",
   "name": "python",
   "nbconvert_exporter": "python",
   "pygments_lexer": "ipython3",
   "version": "3.9.12"
  },
  "orig_nbformat": 4,
  "vscode": {
   "interpreter": {
    "hash": "3d597f4c481aa0f25dceb95d2a0067e73c0966dcbd003d741d821a7208527ecf"
   }
  }
 },
 "nbformat": 4,
 "nbformat_minor": 2
}
